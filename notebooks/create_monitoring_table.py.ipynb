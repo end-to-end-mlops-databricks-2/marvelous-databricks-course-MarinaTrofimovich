{
 "cells": [
  {
   "cell_type": "code",
   "execution_count": 0,
   "metadata": {
    "application/vnd.databricks.v1+cell": {
     "cellMetadata": {
      "byteLimit": 2048000,
      "rowLimit": 10000
     },
     "inputWidgets": {},
     "nuid": "e30149d8-ee01-4fd6-9b49-373b2fb38f4f",
     "showTitle": false,
     "tableResultSettingsMap": {},
     "title": ""
    }
   },
   "outputs": [],
   "source": [
    "#%sh rm -rf /local_disk0/.ephemeral_nfs/cluster_libraries/python/lib/python3.11/site-packages/churn_predictor*"
   ]
  },
  {
   "cell_type": "code",
   "execution_count": 0,
   "metadata": {
    "application/vnd.databricks.v1+cell": {
     "cellMetadata": {
      "byteLimit": 2048000,
      "rowLimit": 10000
     },
     "inputWidgets": {},
     "nuid": "8b277229-7c42-4c13-aa4a-b00969c88a72",
     "showTitle": false,
     "tableResultSettingsMap": {},
     "title": ""
    }
   },
   "outputs": [],
   "source": [
    "#%sh ls /local_disk0/.ephemeral_nfs/cluster_libraries/python/lib/python3.11/site-packages/"
   ]
  },
  {
   "cell_type": "code",
   "execution_count": 0,
   "metadata": {
    "application/vnd.databricks.v1+cell": {
     "cellMetadata": {
      "byteLimit": 2048000,
      "rowLimit": 10000
     },
     "inputWidgets": {},
     "nuid": "96eaddde-f3cc-4a6c-8e31-5821f0013e00",
     "showTitle": false,
     "tableResultSettingsMap": {},
     "title": ""
    }
   },
   "outputs": [],
   "source": [
    "#%pip install /Volumes/mlops_dev/mtrofimo/churn_predictor/churn_predictor-0.0.4-py3-none-any.whl"
   ]
  },
  {
   "cell_type": "code",
   "execution_count": 0,
   "metadata": {
    "application/vnd.databricks.v1+cell": {
     "cellMetadata": {
      "byteLimit": 2048000,
      "rowLimit": 10000
     },
     "inputWidgets": {},
     "nuid": "a9d89a2d-bf04-409a-af85-79b40cae1785",
     "showTitle": false,
     "tableResultSettingsMap": {},
     "title": ""
    }
   },
   "outputs": [],
   "source": [
    "#dbutils.library.restartPython()"
   ]
  },
  {
   "cell_type": "code",
   "execution_count": 0,
   "metadata": {
    "application/vnd.databricks.v1+cell": {
     "cellMetadata": {
      "byteLimit": 2048000,
      "rowLimit": 10000
     },
     "inputWidgets": {},
     "nuid": "77644f9c-9a66-4a50-9759-b857e07e95ba",
     "showTitle": false,
     "tableResultSettingsMap": {},
     "title": ""
    }
   },
   "outputs": [],
   "source": [
    "#%sh cat /local_disk0/.ephemeral_nfs/cluster_libraries/python/lib/python3.11/site-packages/churn_predictor/data_processor.py"
   ]
  },
  {
   "cell_type": "code",
   "execution_count": 0,
   "metadata": {
    "application/vnd.databricks.v1+cell": {
     "cellMetadata": {
      "byteLimit": 2048000,
      "rowLimit": 10000
     },
     "inputWidgets": {},
     "nuid": "df84800f-d26a-4c4d-8217-3441097283fe",
     "showTitle": false,
     "tableResultSettingsMap": {},
     "title": ""
    }
   },
   "outputs": [],
   "source": [
    "# COMMAND ----------\n",
    "\n",
    "# MAGIC %md\n",
    "# MAGIC ## Feature Importance\n",
    "\n",
    "# COMMAND ----------\n",
    "#%pip install /Volumes/mlops_dev/mtrofimo/churn_predictor/churn_predictor-0.0.4-py3-none-any.whl\n",
    "\n",
    "import pandas as pd\n",
    "from pyspark.sql.functions import col\n",
    "from pyspark.sql.functions import current_timestamp, to_utc_timestamp\n",
    "import numpy as np\n",
    "from pyspark.sql import SparkSession\n",
    "import pandas as pd\n",
    "import numpy as np\n",
    "import time\n",
    "import os\n",
    "import datetime\n",
    "import requests\n",
    "import itertools\n",
    "\n",
    "from churn_predictor.config import ProjectConfig\n",
    "\n",
    "spark = SparkSession.builder.getOrCreate()\n",
    "\n",
    "# Load configuration\n",
    "# Determine the environment and set the config path accordingly\n",
    "if \"DATABRICKS_RUNTIME_VERSION\" in os.environ:\n",
    "    config_path = \"../project_config.yml\"\n",
    "else:\n",
    "    config_path = os.path.abspath(\"project_config.yml\")\n",
    "config = ProjectConfig.from_yaml(config_path=config_path, env=\"dev\")\n",
    "spark = SparkSession.builder.getOrCreate()\n",
    "\n",
    "train_set = spark.table(f\"{config.catalog_name}.{config.schema_name}.train_set\").toPandas()\n",
    "test_set = spark.table(f\"{config.catalog_name}.{config.schema_name}.test_set\").toPandas()\n",
    "\n",
    "print(train_set.columns)\n",
    "\n",
    "# COMMAND ----------\n",
    "\n",
    "# MAGIC %md\n",
    "# MAGIC ## Generate Synthetic Data\n",
    "\n",
    "# COMMAND ----------\n",
    "from churn_predictor.data_processor import generate_synthetic_data_with_drift\n",
    "\n",
    "inference_data_skewed = generate_synthetic_data_with_drift(train_set, True, 200)\n",
    "\n",
    "inference_data_skewed.display()\n",
    "\n",
    "# COMMAND ----------\n",
    "\n",
    "# MAGIC %md\n",
    "# MAGIC ### Create Tables and Update house_features_online\n",
    "\n",
    "# COMMAND ----------\n",
    "\n",
    "inference_data_skewed_spark = spark.createDataFrame(inference_data_skewed).withColumn(\n",
    "    \"update_timestamp_utc\", to_utc_timestamp(current_timestamp(), \"UTC\")\n",
    ")\n",
    "\n",
    "inference_data_skewed_spark.write.mode(\"overwrite\").saveAsTable(\n",
    "    f\"{config.catalog_name}.{config.schema_name}.inference_data_skewed\"\n",
    ")\n",
    "\n",
    "test_set = spark.table(f\"{config.catalog_name}.{config.schema_name}.test_set\") \\\n",
    "                        .withColumn(\"CustomerId\", col(\"CustomerId\").cast(\"string\")) \\\n",
    "                        .toPandas()\n",
    "\n",
    "\n",
    "inference_data_skewed = spark.table(f\"{config.catalog_name}.{config.schema_name}.inference_data_skewed\") \\\n",
    "                        .withColumn(\"CustomerId\", col(\"CustomerId\").cast(\"string\")) \\\n",
    "                        .toPandas()\n",
    "\n",
    "print(test_set.head())\n",
    "print(inference_data_skewed.head())\n",
    "\n",
    "# COMMAND ----------\n",
    "\n",
    "token = dbutils.notebook.entry_point.getDbutils().notebook().getContext().apiToken().get()\n",
    "host = spark.conf.get(\"spark.databricks.workspaceUrl\")\n",
    "\n",
    "# COMMAND ----------\n",
    "\n",
    "# Required columns for inference\n",
    "required_columns = [\"Geography\", \"Gender\", \"NumOfProducts\", \"CreditScore\", \"Age\", \"Balance\", \"IsActiveMember\"]\n",
    "\n",
    "# Sample records from inference datasets\n",
    "sampled_skewed_records = inference_data_skewed[required_columns].to_dict(orient=\"records\")\n",
    "test_set_records = test_set[required_columns].to_dict(orient=\"records\")\n",
    "\n",
    "def send_request_https(dataframe_record):\n",
    "    model_serving_endpoint = f\"https://{host}/serving-endpoints/churn_predictor-model-serving/invocations\"\n",
    "    response = requests.post(\n",
    "        model_serving_endpoint,\n",
    "        headers={\"Authorization\": f\"Bearer {token}\"},\n",
    "        json={\"dataframe_records\": [dataframe_record]},\n",
    "    )\n",
    "    return response\n",
    "\n",
    "# COMMAND ----------\n",
    "\n",
    "# Loop over test records and send requests for 10 minutes\n",
    "'''\n",
    "end_time = datetime.datetime.now() + datetime.timedelta(minutes=20)\n",
    "for index, record in enumerate(itertools.cycle(test_set_records)):\n",
    "    if datetime.datetime.now() >= end_time:\n",
    "        break\n",
    "    print(f\"Sending request for test data, index {index}\")\n",
    "    response = send_request_https(record)\n",
    "    print(f\"Response status: {response.status_code}\")\n",
    "    print(f\"Response text: {response.text}\")\n",
    "    time.sleep(0.2)\n",
    "'''\n",
    "\n",
    "\n",
    "# COMMAND ----------\n",
    "\n",
    "# Loop over skewed records and send requests for 10 minutes\n",
    "'''\n",
    "end_time = datetime.datetime.now() + datetime.timedelta(minutes=30)\n",
    "for index, record in enumerate(itertools.cycle(sampled_skewed_records)):\n",
    "    if datetime.datetime.now() >= end_time:\n",
    "        break\n",
    "    print(f\"Sending request for skewed data, index {index}\")\n",
    "    response = send_request_https(record)\n",
    "    print(f\"Response status: {response.status_code}\")\n",
    "    print(f\"Response text: {response.text}\")\n",
    "    time.sleep(0.2)\n",
    "'''\n"
   ]
  },
  {
   "cell_type": "code",
   "execution_count": 0,
   "metadata": {
    "application/vnd.databricks.v1+cell": {
     "cellMetadata": {
      "byteLimit": 2048000,
      "rowLimit": 10000
     },
     "inputWidgets": {},
     "nuid": "b5de8c09-1fc6-46a6-a94a-d024d56f5417",
     "showTitle": false,
     "tableResultSettingsMap": {},
     "title": ""
    }
   },
   "outputs": [],
   "source": [
    "# COMMAND ----------\n",
    "\n",
    "# MAGIC %md\n",
    "# MAGIC ## Refresh Monitoring\n",
    "\n",
    "# COMMAND ----------\n",
    "\n",
    "from pyspark.sql.functions import col\n",
    "from databricks.connect import DatabricksSession\n",
    "from pyspark.sql import functions as F\n",
    "from pyspark.sql.types import StructType, StructField, StringType, IntegerType, DoubleType, ArrayType\n",
    "from databricks.sdk import WorkspaceClient\n",
    "from churn_predictor.monitoring import create_or_refresh_monitoring\n",
    "\n",
    "workspace = WorkspaceClient()\n",
    "\n",
    "create_or_refresh_monitoring(config=config, spark=spark, workspace=workspace)"
   ]
  },
  {
   "cell_type": "code",
   "execution_count": 0,
   "metadata": {
    "application/vnd.databricks.v1+cell": {
     "cellMetadata": {},
     "inputWidgets": {},
     "nuid": "1bd623f4-67ec-4ac7-b10d-a46577908be9",
     "showTitle": false,
     "tableResultSettingsMap": {},
     "title": ""
    }
   },
   "outputs": [],
   "source": []
  }
 ],
 "metadata": {
  "application/vnd.databricks.v1+notebook": {
   "computePreferences": null,
   "dashboards": [],
   "environmentMetadata": {
    "base_environment": "",
    "environment_version": "2"
   },
   "language": "python",
   "notebookMetadata": {
    "mostRecentlyExecutedCommandWithImplicitDF": {
     "commandId": -1,
     "dataframes": [
      "_sqldf"
     ]
    },
    "pythonIndentUnit": 4
   },
   "notebookName": "create_monitoring_table.py",
   "widgets": {}
  },
  "language_info": {
   "name": "python"
  }
 },
 "nbformat": 4,
 "nbformat_minor": 0
}
