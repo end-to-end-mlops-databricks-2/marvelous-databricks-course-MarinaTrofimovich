{
 "cells": [
  {
   "cell_type": "code",
   "execution_count": 0,
   "metadata": {
    "application/vnd.databricks.v1+cell": {
     "cellMetadata": {
      "byteLimit": 2048000,
      "rowLimit": 10000
     },
     "inputWidgets": {},
     "nuid": "df84800f-d26a-4c4d-8217-3441097283fe",
     "showTitle": false,
     "tableResultSettingsMap": {},
     "title": ""
    }
   },
   "outputs": [],
   "source": [
    "# Databricks notebook source\n",
    "#%pip install /Volumes/mlops_dev/mtrofimo/churn_predictor/churn_predictor-0.0.2-py3-none-any.whl\n",
    "\n",
    "# COMMAND ----------\n",
    "\n",
    "# MAGIC %md\n",
    "# MAGIC ## Feature Importance\n",
    "\n",
    "# COMMAND ----------\n",
    "\n",
    "import pandas as pd\n",
    "from pyspark.sql.functions import col\n",
    "from pyspark.sql.functions import current_timestamp, to_utc_timestamp\n",
    "import numpy as np\n",
    "from pyspark.sql import SparkSession\n",
    "import pandas as pd\n",
    "import numpy as np\n",
    "import time\n",
    "import os\n",
    "\n",
    "from churn_predictor.config import ProjectConfig\n",
    "\n",
    "spark = SparkSession.builder.getOrCreate()\n",
    "\n",
    "# Load configuration\n",
    "# Determine the environment and set the config path accordingly\n",
    "if \"DATABRICKS_RUNTIME_VERSION\" in os.environ:\n",
    "    config_path = \"../project_config.yml\"\n",
    "else:\n",
    "    config_path = os.path.abspath(\"project_config.yml\")\n",
    "config = ProjectConfig.from_yaml(config_path=config_path, env=\"dev\")\n",
    "spark = SparkSession.builder.getOrCreate()\n",
    "\n",
    "train_set = spark.table(f\"{config.catalog_name}.{config.schema_name}.train_set\").toPandas()\n",
    "test_set = spark.table(f\"{config.catalog_name}.{config.schema_name}.test_set\").toPandas()\n",
    "\n",
    "print(train_set.columns)\n",
    "\n",
    "# COMMAND ----------\n",
    "\n",
    "# MAGIC %md\n",
    "# MAGIC ## Generate Synthetic Data\n",
    "\n",
    "# COMMAND ----------\n",
    "from churn_predictor.data_processor import generate_synthetic_data_with_drift\n",
    "\n",
    "inference_data_skewed = generate_synthetic_data_with_drift(train_set, True, 200)\n",
    "\n",
    "\n",
    "inference_data_skewed.display()\n"
   ]
  },
  {
   "cell_type": "code",
   "execution_count": 0,
   "metadata": {
    "application/vnd.databricks.v1+cell": {
     "cellMetadata": {
      "byteLimit": 2048000,
      "rowLimit": 10000
     },
     "inputWidgets": {},
     "nuid": "b5de8c09-1fc6-46a6-a94a-d024d56f5417",
     "showTitle": false,
     "tableResultSettingsMap": {},
     "title": ""
    }
   },
   "outputs": [],
   "source": []
  }
 ],
 "metadata": {
  "application/vnd.databricks.v1+notebook": {
   "computePreferences": null,
   "dashboards": [],
   "environmentMetadata": {
    "base_environment": "",
    "environment_version": "2"
   },
   "language": "python",
   "notebookMetadata": {
    "mostRecentlyExecutedCommandWithImplicitDF": {
     "commandId": 2260984255359092,
     "dataframes": [
      "_sqldf"
     ]
    },
    "pythonIndentUnit": 4
   },
   "notebookName": "create_monitoring_table.py",
   "widgets": {}
  },
  "language_info": {
   "name": "python"
  }
 },
 "nbformat": 4,
 "nbformat_minor": 0
}
